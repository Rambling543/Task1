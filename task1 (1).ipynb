{
 "cells": [
  {
   "cell_type": "code",
   "execution_count": 3,
   "id": "f44ad099-e75b-43e7-80f6-ec18f5e65bfd",
   "metadata": {},
   "outputs": [
    {
     "name": "stdout",
     "output_type": "stream",
     "text": [
      "Collecting seaborn\n",
      "  Downloading seaborn-0.13.2-py3-none-any.whl.metadata (5.4 kB)\n",
      "Requirement already satisfied: numpy!=1.24.0,>=1.20 in c:\\users\\ramra\\appdata\\local\\programs\\python\\python313\\lib\\site-packages (from seaborn) (2.2.2)\n",
      "Requirement already satisfied: pandas>=1.2 in c:\\users\\ramra\\appdata\\local\\programs\\python\\python313\\lib\\site-packages (from seaborn) (2.2.3)\n",
      "Requirement already satisfied: matplotlib!=3.6.1,>=3.4 in c:\\users\\ramra\\appdata\\local\\programs\\python\\python313\\lib\\site-packages (from seaborn) (3.10.0)\n",
      "Requirement already satisfied: contourpy>=1.0.1 in c:\\users\\ramra\\appdata\\local\\programs\\python\\python313\\lib\\site-packages (from matplotlib!=3.6.1,>=3.4->seaborn) (1.3.1)\n",
      "Requirement already satisfied: cycler>=0.10 in c:\\users\\ramra\\appdata\\local\\programs\\python\\python313\\lib\\site-packages (from matplotlib!=3.6.1,>=3.4->seaborn) (0.12.1)\n",
      "Requirement already satisfied: fonttools>=4.22.0 in c:\\users\\ramra\\appdata\\local\\programs\\python\\python313\\lib\\site-packages (from matplotlib!=3.6.1,>=3.4->seaborn) (4.56.0)\n",
      "Requirement already satisfied: kiwisolver>=1.3.1 in c:\\users\\ramra\\appdata\\local\\programs\\python\\python313\\lib\\site-packages (from matplotlib!=3.6.1,>=3.4->seaborn) (1.4.8)\n",
      "Requirement already satisfied: packaging>=20.0 in c:\\users\\ramra\\appdata\\local\\programs\\python\\python313\\lib\\site-packages (from matplotlib!=3.6.1,>=3.4->seaborn) (24.2)\n",
      "Requirement already satisfied: pillow>=8 in c:\\users\\ramra\\appdata\\local\\programs\\python\\python313\\lib\\site-packages (from matplotlib!=3.6.1,>=3.4->seaborn) (11.1.0)\n",
      "Requirement already satisfied: pyparsing>=2.3.1 in c:\\users\\ramra\\appdata\\local\\programs\\python\\python313\\lib\\site-packages (from matplotlib!=3.6.1,>=3.4->seaborn) (3.2.1)\n",
      "Requirement already satisfied: python-dateutil>=2.7 in c:\\users\\ramra\\appdata\\local\\programs\\python\\python313\\lib\\site-packages (from matplotlib!=3.6.1,>=3.4->seaborn) (2.9.0.post0)\n",
      "Requirement already satisfied: pytz>=2020.1 in c:\\users\\ramra\\appdata\\local\\programs\\python\\python313\\lib\\site-packages (from pandas>=1.2->seaborn) (2025.1)\n",
      "Requirement already satisfied: tzdata>=2022.7 in c:\\users\\ramra\\appdata\\local\\programs\\python\\python313\\lib\\site-packages (from pandas>=1.2->seaborn) (2025.1)\n",
      "Requirement already satisfied: six>=1.5 in c:\\users\\ramra\\appdata\\local\\programs\\python\\python313\\lib\\site-packages (from python-dateutil>=2.7->matplotlib!=3.6.1,>=3.4->seaborn) (1.17.0)\n",
      "Downloading seaborn-0.13.2-py3-none-any.whl (294 kB)\n",
      "Installing collected packages: seaborn\n",
      "Successfully installed seaborn-0.13.2\n"
     ]
    },
    {
     "name": "stderr",
     "output_type": "stream",
     "text": [
      "\n",
      "[notice] A new release of pip is available: 24.3.1 -> 25.1.1\n",
      "[notice] To update, run: python.exe -m pip install --upgrade pip\n"
     ]
    }
   ],
   "source": [
    "!pip install seaborn\n"
   ]
  },
  {
   "cell_type": "code",
   "execution_count": 4,
   "id": "0298b9fc-14e6-4bc6-901c-94b899d6bd00",
   "metadata": {},
   "outputs": [],
   "source": [
    "import pandas as pd\n",
    "import numpy as np\n",
    "import matplotlib.pyplot as plt\n",
    "import seaborn as sns\n"
   ]
  },
  {
   "cell_type": "code",
   "execution_count": 20,
   "id": "1d49eae6-ff89-4e86-8d9d-f3a977b5725b",
   "metadata": {},
   "outputs": [
    {
     "name": "stdout",
     "output_type": "stream",
     "text": [
      "columns and rows:\n",
      "(10, 6)\n",
      "\n",
      "First 5 rows of the dataset:\n",
      "   StudentID   Age  Gender  Marks       City  Attendance\n",
      "0          1  18.0    Male   85.0  Hyderabad          90\n",
      "1          2  19.0  Female   78.0  Bangalore          88\n",
      "2          3  17.0    Male   92.0  Hyderabad          95\n",
      "3          4   NaN  Female   67.0    Chennai          85\n",
      "4          5  20.0    Male   56.0  Hyderabad          70\n",
      "\n",
      "Missing values in each column:\n",
      "StudentID     0\n",
      "Age           1\n",
      "Gender        0\n",
      "Marks         1\n",
      "City          0\n",
      "Attendance    0\n",
      "dtype: int64\n",
      "\n",
      "Data types of each column:\n",
      "StudentID       int64\n",
      "Age           float64\n",
      "Gender         object\n",
      "Marks         float64\n",
      "City           object\n",
      "Attendance      int64\n",
      "dtype: object\n"
     ]
    }
   ],
   "source": [
    "import pandas as pd\n",
    "df = pd.read_csv('student_data.csv') \n",
    "print(\"columns and rows:\")\n",
    "print(df.shape)\n",
    "print(\"\\nFirst 5 rows of the dataset:\")\n",
    "print(df.head())\n",
    "print(\"\\nMissing values in each column:\")\n",
    "print(df.isnull().sum())\n",
    "print(\"\\nData types of each column:\")\n",
    "print(df.dtypes)\n"
   ]
  },
  {
   "cell_type": "code",
   "execution_count": 6,
   "id": "a75657cc-6596-4f68-a74f-e2ca52cfb50b",
   "metadata": {},
   "outputs": [
    {
     "name": "stdout",
     "output_type": "stream",
     "text": [
      "StudentID     0\n",
      "Age           0\n",
      "Gender        0\n",
      "Marks         0\n",
      "City          0\n",
      "Attendance    0\n",
      "dtype: int64\n"
     ]
    }
   ],
   "source": [
    "print(df.isnull().sum())df['Age'] = df['Age'].fillna(df['Age'].mean())\n",
    "df['Marks'] = df['Marks'].fillna(df['Marks'].mean()) \n"
   ]
  },
  {
   "cell_type": "code",
   "execution_count": 8,
   "id": "c8234683-6fdf-48b2-a416-3079eb73cde4",
   "metadata": {},
   "outputs": [
    {
     "name": "stdout",
     "output_type": "stream",
     "text": [
      "StudentID     0\n",
      "Age           0\n",
      "Gender        0\n",
      "Marks         0\n",
      "City          0\n",
      "Attendance    0\n",
      "dtype: int64\n"
     ]
    }
   ],
   "source": [
    "print(df.isnull().sum())\n",
    "df['Age'] = df['Age'].fillna(df['Age'].median())\n",
    "df['Marks'] = df['Marks'].fillna(df['Marks'].median()) \n"
   ]
  },
  {
   "cell_type": "code",
   "execution_count": 10,
   "id": "f6b2aa26-44cf-47ef-9341-83f57f61b626",
   "metadata": {},
   "outputs": [
    {
     "name": "stdout",
     "output_type": "stream",
     "text": [
      "StudentID     0\n",
      "Age           0\n",
      "Gender        0\n",
      "Marks         0\n",
      "City          0\n",
      "Attendance    0\n",
      "dtype: int64\n"
     ]
    }
   ],
   "source": [
    "print(df.isnull().sum())\n",
    "df['Gender'] = df['Gender'].fillna(df['Gender'].mode()[0])\n",
    "df['City'] = df['City'].fillna(df['City'].mode()[0])\n"
   ]
  },
  {
   "cell_type": "code",
   "execution_count": 12,
   "id": "bd635d36-0c76-4c01-b455-acc3de67b83e",
   "metadata": {},
   "outputs": [
    {
     "name": "stdout",
     "output_type": "stream",
     "text": [
      "   StudentID        Age       Marks  Attendance  Gender_Female  Gender_Male  \\\n",
      "0          1  18.000000   85.000000          90          False         True   \n",
      "1          2  19.000000   78.000000          88           True        False   \n",
      "2          3  17.000000   92.000000          95          False         True   \n",
      "3          4  20.444444   67.000000          85           True        False   \n",
      "4          5  20.000000   56.000000          70          False         True   \n",
      "5          6  22.000000   76.222222          80           True        False   \n",
      "6          7  21.000000   45.000000          65          False         True   \n",
      "7          8  23.000000   98.000000         100           True        False   \n",
      "8          9  24.000000   60.000000          78           True        False   \n",
      "9         10  20.000000  105.000000          85          False         True   \n",
      "\n",
      "   City_Bangalore  City_Chennai  City_Hyderabad  \n",
      "0           False         False            True  \n",
      "1            True         False           False  \n",
      "2           False         False            True  \n",
      "3           False          True           False  \n",
      "4           False         False            True  \n",
      "5            True         False           False  \n",
      "6           False          True           False  \n",
      "7           False         False            True  \n",
      "8            True         False           False  \n",
      "9           False          True           False  \n"
     ]
    }
   ],
   "source": [
    "df_encoded = pd.get_dummies(df, columns=['Gender', 'City'])\n",
    "print(df_encoded)\n"
   ]
  },
  {
   "cell_type": "code",
   "execution_count": 14,
   "id": "21412bb1-9230-4833-8e43-94388ca76373",
   "metadata": {},
   "outputs": [
    {
     "name": "stdout",
     "output_type": "stream",
     "text": [
      "Collecting scikit-learn\n",
      "  Downloading scikit_learn-1.6.1-cp313-cp313-win_amd64.whl.metadata (15 kB)\n",
      "Requirement already satisfied: numpy>=1.19.5 in c:\\users\\ramra\\appdata\\local\\programs\\python\\python313\\lib\\site-packages (from scikit-learn) (2.2.2)\n",
      "Collecting scipy>=1.6.0 (from scikit-learn)\n",
      "  Downloading scipy-1.15.3-cp313-cp313-win_amd64.whl.metadata (60 kB)\n",
      "Collecting joblib>=1.2.0 (from scikit-learn)\n",
      "  Downloading joblib-1.5.1-py3-none-any.whl.metadata (5.6 kB)\n",
      "Collecting threadpoolctl>=3.1.0 (from scikit-learn)\n",
      "  Downloading threadpoolctl-3.6.0-py3-none-any.whl.metadata (13 kB)\n",
      "Downloading scikit_learn-1.6.1-cp313-cp313-win_amd64.whl (11.1 MB)\n",
      "   ---------------------------------------- 0.0/11.1 MB ? eta -:--:--\n",
      "   --- ------------------------------------ 1.0/11.1 MB 5.7 MB/s eta 0:00:02\n",
      "   ------ --------------------------------- 1.8/11.1 MB 5.7 MB/s eta 0:00:02\n",
      "   ----------- ---------------------------- 3.1/11.1 MB 5.7 MB/s eta 0:00:02\n",
      "   ----------------- ---------------------- 4.7/11.1 MB 5.9 MB/s eta 0:00:02\n",
      "   --------------------- ------------------ 6.0/11.1 MB 6.1 MB/s eta 0:00:01\n",
      "   ------------------------------ --------- 8.4/11.1 MB 6.9 MB/s eta 0:00:01\n",
      "   ------------------------------------- -- 10.5/11.1 MB 7.4 MB/s eta 0:00:01\n",
      "   ---------------------------------------- 11.1/11.1 MB 7.2 MB/s eta 0:00:00\n",
      "Downloading joblib-1.5.1-py3-none-any.whl (307 kB)\n",
      "Downloading scipy-1.15.3-cp313-cp313-win_amd64.whl (41.0 MB)\n",
      "   ---------------------------------------- 0.0/41.0 MB ? eta -:--:--\n",
      "   - -------------------------------------- 1.6/41.0 MB 7.9 MB/s eta 0:00:06\n",
      "   --- ------------------------------------ 3.4/41.0 MB 8.5 MB/s eta 0:00:05\n",
      "   ----- ---------------------------------- 5.2/41.0 MB 8.4 MB/s eta 0:00:05\n",
      "   ------- -------------------------------- 7.3/41.0 MB 9.0 MB/s eta 0:00:04\n",
      "   --------- ------------------------------ 9.4/41.0 MB 9.3 MB/s eta 0:00:04\n",
      "   ---------- ----------------------------- 10.7/41.0 MB 8.7 MB/s eta 0:00:04\n",
      "   ----------- ---------------------------- 11.8/41.0 MB 8.3 MB/s eta 0:00:04\n",
      "   ------------- -------------------------- 13.9/41.0 MB 8.5 MB/s eta 0:00:04\n",
      "   --------------- ------------------------ 16.3/41.0 MB 8.8 MB/s eta 0:00:03\n",
      "   ----------------- ---------------------- 18.4/41.0 MB 8.9 MB/s eta 0:00:03\n",
      "   ------------------- -------------------- 20.2/41.0 MB 8.9 MB/s eta 0:00:03\n",
      "   --------------------- ------------------ 22.3/41.0 MB 9.0 MB/s eta 0:00:03\n",
      "   ------------------------ --------------- 24.6/41.0 MB 9.2 MB/s eta 0:00:02\n",
      "   -------------------------- ------------- 27.0/41.0 MB 9.4 MB/s eta 0:00:02\n",
      "   ---------------------------- ----------- 29.4/41.0 MB 9.5 MB/s eta 0:00:02\n",
      "   ------------------------------- -------- 32.0/41.0 MB 9.6 MB/s eta 0:00:01\n",
      "   --------------------------------- ------ 34.3/41.0 MB 9.8 MB/s eta 0:00:01\n",
      "   ------------------------------------ --- 37.0/41.0 MB 9.9 MB/s eta 0:00:01\n",
      "   -------------------------------------- - 39.6/41.0 MB 10.0 MB/s eta 0:00:01\n",
      "   ---------------------------------------- 41.0/41.0 MB 9.9 MB/s eta 0:00:00\n",
      "Downloading threadpoolctl-3.6.0-py3-none-any.whl (18 kB)\n",
      "Installing collected packages: threadpoolctl, scipy, joblib, scikit-learn\n",
      "Successfully installed joblib-1.5.1 scikit-learn-1.6.1 scipy-1.15.3 threadpoolctl-3.6.0\n"
     ]
    },
    {
     "name": "stderr",
     "output_type": "stream",
     "text": [
      "\n",
      "[notice] A new release of pip is available: 24.3.1 -> 25.1.1\n",
      "[notice] To update, run: python.exe -m pip install --upgrade pip\n"
     ]
    }
   ],
   "source": [
    "!pip install scikit-learn"
   ]
  },
  {
   "cell_type": "code",
   "execution_count": 16,
   "id": "21753f94-01e2-40cf-ac95-7b3b80bf5bde",
   "metadata": {},
   "outputs": [
    {
     "name": "stdout",
     "output_type": "stream",
     "text": [
      "   StudentID           Age  Gender         Marks       City  Attendance\n",
      "0          1 -1.189624e+00    Male  4.786139e-01  Hyderabad    0.628055\n",
      "1          2 -7.029595e-01  Female  9.693445e-02  Bangalore    0.431788\n",
      "2          3 -1.676288e+00    Male  8.602933e-01  Hyderabad    1.118723\n",
      "3          4 -7.353292e-16  Female -5.028475e-01    Chennai    0.137387\n",
      "4          5 -2.162952e-01    Male -1.102629e+00  Hyderabad   -1.334617\n",
      "5          6  7.570333e-01  Female  3.085621e-16  Bangalore   -0.353281\n",
      "6          7  2.703690e-01    Male -1.702411e+00    Chennai   -1.825285\n",
      "7          8  1.243698e+00  Female  1.187447e+00  Hyderabad    1.609391\n",
      "8          9  1.730362e+00  Female -8.845269e-01  Bangalore   -0.549548\n",
      "9         10 -2.162952e-01    Male  1.569126e+00    Chennai    0.137387\n"
     ]
    }
   ],
   "source": [
    "from sklearn.preprocessing import StandardScaler\n",
    "num_cols = ['Age', 'Marks', 'Attendance']\n",
    "scaler = StandardScaler()\n",
    "df[num_cols] = scaler.fit_transform(df[num_cols])\n",
    "print(df)"
   ]
  },
  {
   "cell_type": "code",
   "execution_count": null,
   "id": "4f13fc01-1201-4473-94f4-151a5021763b",
   "metadata": {},
   "outputs": [
    {
     "data": {
      "image/png": "[encoded data removed]",
      "text/plain": [
       "<Figure size 1000x600 with 1 Axes>"
      ]
     },
     "metadata": {},
     "output_type": "display_data"
    }
   ],
   "source": [
    "import matplotlib.pyplot as plt\n",
    "import seaborn as sns\n",
    "plt.figure(figsize=(10, 6))\n",
    "sns.boxplot(data=df[num_cols])\n",
    "plt.xticks(rotation=90)\n",
    "plt.title(\"Boxplot of Numerical Columns\")\n",
    "plt.show()\n",
    "Q1 = df[num_cols].quantile(0.25)\n",
    "Q3 = df[num_cols].quantile(0.75)\n",
    "IQR = Q3 - Q1\n",
    "df_filtered = df[~((df[num_cols] < (Q1 - 1.5 * IQR)) | (df[num_cols] > (Q3 + 1.5 * IQR))).any(axis=1)]\n"
   ]
  },
  {
   "cell_type": "code",
   "execution_count": null,
   "id": "dc15010a-829c-45d0-8917-1be98fcfd890",
   "metadata": {},
   "outputs": [],
   "source": []
  }
 ],
 "metadata": {
  "kernelspec": {
   "display_name": "Python 3 (ipykernel)",
   "language": "python",
   "name": "python3"
  },
  "language_info": {
   "codemirror_mode": {
    "name": "ipython",
    "version": 3
   },
   "file_extension": ".py",
   "mimetype": "text/x-python",
   "name": "python",
   "nbconvert_exporter": "python",
   "pygments_lexer": "ipython3",
   "version": "3.13.1"
  }
 },
 "nbformat": 4,
 "nbformat_minor": 5
}
